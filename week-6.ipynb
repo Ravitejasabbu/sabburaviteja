{
  "nbformat": 4,
  "nbformat_minor": 0,
  "metadata": {
    "colab": {
      "provenance": [],
      "authorship_tag": "ABX9TyNOa89/oVK4QrJw/GdixUkE",
      "include_colab_link": true
    },
    "kernelspec": {
      "name": "python3",
      "display_name": "Python 3"
    },
    "language_info": {
      "name": "python"
    }
  },
  "cells": [
    {
      "cell_type": "markdown",
      "metadata": {
        "id": "view-in-github",
        "colab_type": "text"
      },
      "source": [
        "<a href=\"https://colab.research.google.com/github/Ravitejasabbu/sabburaviteja/blob/main/week-6.ipynb\" target=\"_parent\"><img src=\"https://colab.research.google.com/assets/colab-badge.svg\" alt=\"Open In Colab\"/></a>"
      ]
    },
    {
      "cell_type": "code",
      "execution_count": 1,
      "metadata": {
        "colab": {
          "base_uri": "https://localhost:8080/"
        },
        "id": "7ndESwad7mbu",
        "outputId": "a2cf61b6-b7e9-47a8-cff3-8deb19fb3107"
      },
      "outputs": [
        {
          "output_type": "stream",
          "name": "stdout",
          "text": [
            "Data Types of each feature:\n",
            " Unnamed: 0        int64\n",
            "WTT             float64\n",
            "PTI             float64\n",
            "EQW             float64\n",
            "SBI             float64\n",
            "LQE             float64\n",
            "QWG             float64\n",
            "FDJ             float64\n",
            "PJF             float64\n",
            "HQE             float64\n",
            "NXJ             float64\n",
            "TARGET CLASS      int64\n",
            "dtype: object\n",
            "\n",
            "Summary of the dataset:\n",
            "         Unnamed: 0          WTT          PTI          EQW          SBI  \\\n",
            "count  1000.000000  1000.000000  1000.000000  1000.000000  1000.000000   \n",
            "mean    499.500000     0.949682     1.114303     0.834127     0.682099   \n",
            "std     288.819436     0.289635     0.257085     0.291554     0.229645   \n",
            "min       0.000000     0.174412     0.441398     0.170924     0.045027   \n",
            "25%     249.750000     0.742358     0.942071     0.615451     0.515010   \n",
            "50%     499.500000     0.940475     1.118486     0.813264     0.676835   \n",
            "75%     749.250000     1.163295     1.307904     1.028340     0.834317   \n",
            "90%     899.100000     1.336612     1.441901     1.223127     0.983470   \n",
            "max     999.000000     1.721779     1.833757     1.722725     1.634884   \n",
            "\n",
            "               LQE          QWG          FDJ          PJF          HQE  \\\n",
            "count  1000.000000  1000.000000  1000.000000  1000.000000  1000.000000   \n",
            "mean      1.032336     0.943534     0.963422     1.071960     1.158251   \n",
            "std       0.243413     0.256121     0.255118     0.288982     0.293738   \n",
            "min       0.315307     0.262389     0.295228     0.299476     0.365157   \n",
            "25%       0.870855     0.761064     0.784407     0.866306     0.934340   \n",
            "50%       1.035824     0.941502     0.945333     1.065500     1.165556   \n",
            "75%       1.198270     1.123060     1.134852     1.283156     1.383173   \n",
            "90%       1.341138     1.277552     1.306497     1.452713     1.535520   \n",
            "max       1.650050     1.666902     1.713342     1.785420     1.885690   \n",
            "\n",
            "               NXJ  TARGET CLASS  \n",
            "count  1000.000000    1000.00000  \n",
            "mean      1.362725       0.50000  \n",
            "std       0.204225       0.50025  \n",
            "min       0.639693       0.00000  \n",
            "25%       1.222623       0.00000  \n",
            "50%       1.375368       0.50000  \n",
            "75%       1.504832       1.00000  \n",
            "90%       1.618096       1.00000  \n",
            "max       1.893950       1.00000  \n",
            "\n",
            "Columns/Features in the dataset:\n",
            " ['Unnamed: 0', 'WTT', 'PTI', 'EQW', 'SBI', 'LQE', 'QWG', 'FDJ', 'PJF', 'HQE', 'NXJ', 'TARGET CLASS']\n",
            "\n",
            "Scaled Features:\n",
            "    Unnamed: 0       WTT       PTI       EQW       SBI       LQE       QWG  \\\n",
            "0   -1.730320 -0.123542  0.185907 -0.913431  0.319629 -1.033637 -2.308375   \n",
            "1   -1.726856 -1.084836 -0.430348 -1.025313  0.625388 -0.444847 -1.152706   \n",
            "2   -1.723391 -0.788702  0.339318  0.301511  0.755873  2.031693 -0.870156   \n",
            "3   -1.719927  0.982841  1.060193 -0.621399  0.625299  0.452820 -0.267220   \n",
            "4   -1.716463  1.139275 -0.640392 -0.709819 -0.057175  0.822886 -0.936773   \n",
            "\n",
            "        FDJ       PJF       HQE       NXJ  \n",
            "0 -0.798951 -1.482368 -0.949719 -0.643314  \n",
            "1 -1.129797 -0.202240 -1.828051  0.636759  \n",
            "2  2.599818  0.285707 -0.682494 -0.377850  \n",
            "3  1.750208  1.066491  1.241325 -1.026987  \n",
            "4  0.596782 -1.472352  1.040772  0.276510  \n"
          ]
        }
      ],
      "source": [
        " # Part 1 – Import the required Python packages\n",
        "import pandas as pd\n",
        "import numpy as np\n",
        "import matplotlib.pyplot as plt\n",
        "import seaborn as sns\n",
        "from sklearn.preprocessing import StandardScaler\n",
        "\n",
        "# 1. Load the classified dataset into a dataframe using pandas\n",
        "# Replace 'classified_manufacturing_dataset.csv' with the actual path to your dataset\n",
        "df = pd.read_csv('/content/Classified_Data.txt')\n",
        "\n",
        "# 2. Check the data types of each feature(column) in the dataset\n",
        "data_types = df.dtypes\n",
        "print(\"Data Types of each feature:\\n\", data_types)\n",
        "\n",
        "# 3. Generate a summary of the dataset for min, max, stddev, quartile values\n",
        "summary = df.describe(percentiles=[.25, .5, .75, .9])\n",
        "print(\"\\nSummary of the dataset:\\n\", summary)\n",
        "\n",
        "# 4. List the names of columns/features in the dataset\n",
        "columns = df.columns.tolist()\n",
        "print(\"\\nColumns/Features in the dataset:\\n\", columns)\n",
        "\n",
        "# 5. Scale the features using StandardScaler and transform the data\n",
        "# Assuming that the target variable is the last column, adjust accordingly if needed\n",
        "X = df.iloc[:, :-1]  # Features\n",
        "y = df.iloc[:, -1]   # Target variable\n",
        "\n",
        "scaler = StandardScaler()\n",
        "X_scaled = scaler.fit_transform(X)\n",
        "\n",
        "# Optionally, convert back to a DataFrame\n",
        "X_scaled_df = pd.DataFrame(X_scaled, columns=X.columns)\n",
        "\n",
        "print(\"\\nScaled Features:\\n\", X_scaled_df.head())\n",
        ""
      ]
    },
    {
      "cell_type": "markdown",
      "source": [
        "part-2"
      ],
      "metadata": {
        "id": "21Y_ZppwBRjS"
      }
    },
    {
      "cell_type": "code",
      "source": [
        "from sklearn.model_selection import train_test_split\n",
        "X_train, X_test, y_train, y_test = train_test_split(X_scaled_df, y, test_size=0.2, random_state=42)\n",
        "print(f\"Training set size: {X_train.shape[0]}\")\n",
        "print(f\"Testing set size: {X_test.shape[0]}\")\n",
        "from sklearn.neighbors import KNeighborsClassifier\n",
        "knn = KNeighborsClassifier(n_neighbors=5)\n",
        "knn.fit(X_train, y_train)\n",
        "print(\"KNN model has been fitted to the training data.\")"
      ],
      "metadata": {
        "colab": {
          "base_uri": "https://localhost:8080/"
        },
        "id": "yR1A2WlABTRI",
        "outputId": "a0206d9c-c785-44cc-c1b1-c59b8c71f84e"
      },
      "execution_count": 2,
      "outputs": [
        {
          "output_type": "stream",
          "name": "stdout",
          "text": [
            "Training set size: 800\n",
            "Testing set size: 200\n",
            "KNN model has been fitted to the training data.\n"
          ]
        }
      ]
    },
    {
      "cell_type": "markdown",
      "source": [
        "part-3"
      ],
      "metadata": {
        "id": "o2m1yZKnCo_5"
      }
    },
    {
      "cell_type": "code",
      "source": [
        "# Import necessary libraries\n",
        "import numpy as np\n",
        "import pandas as pd\n",
        "from sklearn.datasets import load_iris\n",
        "from sklearn.model_selection import train_test_split\n",
        "from sklearn.ensemble import RandomForestClassifier\n",
        "from sklearn.metrics import confusion_matrix, classification_report, ConfusionMatrixDisplay\n",
        "import matplotlib.pyplot as plt\n",
        "\n",
        "# Load a sample dataset (Iris dataset)\n",
        "data = load_iris()\n",
        "X = data.data\n",
        "y = data.target\n",
        "\n",
        "# Split the dataset into training and testing sets\n",
        "X_train, X_test, y_train, y_test = train_test_split(X, y, test_size=0.3, random_state=42)\n",
        "\n",
        "# Train a Random Forest Classifier\n",
        "model = RandomForestClassifier(random_state=42)\n",
        "model.fit(X_train, y_train)\n",
        "\n",
        "# Make predictions on the test set\n",
        "y_pred = model.predict(X_test)\n",
        "\n",
        "# 1. Generate the confusion matrix\n",
        "conf_matrix = confusion_matrix(y_test, y_pred)\n",
        "print(\"Confusion Matrix:\")\n",
        "print(conf_matrix)\n",
        "\n",
        "# Display the confusion matrix\n",
        "disp = ConfusionMatrixDisplay(confusion_matrix=conf_matrix, display_labels=data.target_names)\n",
        "disp.plot(cmap=plt.cm.Blues)\n",
        "plt.title(\"Confusion Matrix\")\n",
        "plt.show()\n",
        "\n",
        "# 2. Generate the classification report\n",
        "class_report = classification_report(y_test, y_pred, target_names=data.target_names)\n",
        "print(\"Classification Report:\")\n",
        "print(class_report)\n"
      ],
      "metadata": {
        "colab": {
          "base_uri": "https://localhost:8080/",
          "height": 732
        },
        "id": "7Lhias2PCqxh",
        "outputId": "bc0e180e-eb71-4ef8-d986-69eda0daa71f"
      },
      "execution_count": 3,
      "outputs": [
        {
          "output_type": "stream",
          "name": "stdout",
          "text": [
            "Confusion Matrix:\n",
            "[[19  0  0]\n",
            " [ 0 13  0]\n",
            " [ 0  0 13]]\n"
          ]
        },
        {
          "output_type": "display_data",
          "data": {
            "text/plain": [
              "<Figure size 640x480 with 2 Axes>"
            ],
            "image/png": "[encoded data removed]"
          },
          "metadata": {}
        },
        {
          "output_type": "stream",
          "name": "stdout",
          "text": [
            "Classification Report:\n",
            "              precision    recall  f1-score   support\n",
            "\n",
            "      setosa       1.00      1.00      1.00        19\n",
            "  versicolor       1.00      1.00      1.00        13\n",
            "   virginica       1.00      1.00      1.00        13\n",
            "\n",
            "    accuracy                           1.00        45\n",
            "   macro avg       1.00      1.00      1.00        45\n",
            "weighted avg       1.00      1.00      1.00        45\n",
            "\n"
          ]
        }
      ]
    }
  ]
}